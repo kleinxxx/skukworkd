{
  "nbformat": 4,
  "nbformat_minor": 0,
  "metadata": {
    "colab": {
      "provenance": [],
      "authorship_tag": "ABX9TyMaShxnEq1nAEmyw55O85lU",
      "include_colab_link": true
    },
    "kernelspec": {
      "name": "python3",
      "display_name": "Python 3"
    },
    "language_info": {
      "name": "python"
    }
  },
  "cells": [
    {
      "cell_type": "markdown",
      "metadata": {
        "id": "view-in-github",
        "colab_type": "text"
      },
      "source": [
        "<a href=\"https://colab.research.google.com/github/kleinxxx/skunkworks/blob/main/Smarter_Tic_Tac_Toe.ipynb\" target=\"_parent\"><img src=\"https://colab.research.google.com/assets/colab-badge.svg\" alt=\"Open In Colab\"/></a>"
      ]
    },
    {
      "cell_type": "code",
      "execution_count": null,
      "metadata": {
        "id": "yfPtEkLvW7vl"
      },
      "outputs": [],
      "source": [
        "board = [[\" \", \" \", \" \"],\n",
        "         [\" \", \" \", \" \"],\n",
        "         [\" \", \" \", \" \"]]\n",
        "\n",
        "def print_board():\n",
        "    print(\"   0    1    2\")\n",
        "    for i in range(3):\n",
        "        row = str(i) + \" \"\n",
        "        for j in range(3):\n",
        "            row += \"| \" + board[i][j] + \" \"\n",
        "        print(row + \"|\")\n",
        "\n",
        "def check_win(player):\n",
        "    for i in range(3):\n",
        "        # Check horizontal\n",
        "        if board[i][0] == player and board[i][1] == player and board[i][2] == player:\n",
        "            return True\n",
        "        # Check vertical\n",
        "        if board[0][i] == player and board[1][i] == player and board[2][i] == player:\n",
        "            return True\n",
        "    # Check diagonal\n",
        "    if board[0][0] == player and board[1][1] == player and board[2][2] == player:\n",
        "        return True\n",
        "    if board[0][2] == player and board[1][1] == player and board[2][0] == player:\n",
        "        return True\n",
        "    return False\n",
        "\n",
        "def computer_move():\n",
        "    for i in range(3):\n",
        "        for j in range(3):\n",
        "            if board[i][j] == \" \":\n",
        "                board[i][j] = \"O\"\n",
        "                if check_win(\"O\"):\n",
        "                    return\n",
        "                else:\n",
        "                    board[i][j] = \" \"\n",
        "    for i in range(3):\n",
        "        for j in range(3):\n",
        "            if board[i][j] == \" \":\n",
        "                board[i][j] = \"X\"\n",
        "                if check_win(\"X\"):\n",
        "                    board[i][j] = \"O\"\n",
        "                    return\n",
        "                else:\n",
        "                    board[i][j] = \" \"\n",
        "    import random\n",
        "    row = random.randint(0, 2)\n",
        "    col = random.randint(0, 2)\n",
        "    board[row][col] = \"O\"\n",
        "\n",
        "# Game loop\n",
        "player = \"X\"\n",
        "while True:\n",
        "    print_board()\n",
        "    if player == \"X\":\n",
        "        row = int(input(\"Enter row: \"))\n",
        "        col = int(input(\"Enter column: \"))\n",
        "        if board[row][col] == \" \":\n",
        "            board[row][col] = player\n",
        "            if check_win(player):\n",
        "                print_board()\n",
        "                print(\"You win!\")\n",
        "                break\n",
        "            player = \"O\"\n",
        "        else:\n",
        "            print(\"That spot is already taken. Try again.\")\n",
        "    else:\n",
        "        computer_move()\n",
        "        if check_win(player):\n",
        "            print_board()\n",
        "            print(\"The computer wins!\")\n",
        "            break\n",
        "        player = \"X\"\n"
      ]
    }
  ]
}