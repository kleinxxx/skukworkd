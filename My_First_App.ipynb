{
  "nbformat": 4,
  "nbformat_minor": 0,
  "metadata": {
    "colab": {
      "provenance": [],
      "authorship_tag": "ABX9TyNvqNgilrBgjUFqD3T+3QpX",
      "include_colab_link": true
    },
    "kernelspec": {
      "name": "python3",
      "display_name": "Python 3"
    },
    "language_info": {
      "name": "python"
    }
  },
  "cells": [
    {
      "cell_type": "markdown",
      "metadata": {
        "id": "view-in-github",
        "colab_type": "text"
      },
      "source": [
        "<a href=\"https://colab.research.google.com/github/kleinxxx/skunworks/blob/main/My_First_App.ipynb\" target=\"_parent\"><img src=\"https://colab.research.google.com/assets/colab-badge.svg\" alt=\"Open In Colab\"/></a>"
      ]
    },
    {
      "cell_type": "code",
      "execution_count": null,
      "metadata": {
        "id": "9ws7_JvB404v"
      },
      "outputs": [],
      "source": [
        "# this game was made on 20th April 2023\n",
        "\n",
        "\n",
        "\n",
        "import random\n",
        "print(\"****Welcome to Kelvin's First App - Rock, Paper , Scissors or Fire ***\")\n",
        "\n",
        "wantoplay = \"y\"\n",
        "while wantoplay==\"y\":\n",
        "  playermove = input(\"Enter Your Move  \")\n",
        "  #print(\"Player Move :   \",playermove)\n",
        "  moveoptions = (\"rock\", \"paper\", \"scissors\", \"fire\")\n",
        "  cpumove = moveoptions[random.randint(0,3)]\n",
        "  print(\"Computer Move: \" , cpumove)\n",
        "\n",
        "  if playermove==\"rock\":\n",
        "    if  cpumove ==\"rock\":\n",
        "      print(\"its a tie\")\n",
        "    elif cpumove==\"paper\":\n",
        "      print(\"Looser :-(\")\n",
        "    elif cpumove ==\"scissors\":\n",
        "      print(\"You Win !!\")\n",
        "    elif cpumove ==\"fire\":\n",
        "      print(\"You Win!!\")\n",
        "\n",
        "  elif playermove==\"paper\":\n",
        "    if  cpumove ==\"paper\":\n",
        "      print(\"its a tie\")\n",
        "    elif cpumove==\"rock\":\n",
        "      print(\"You Win\")\n",
        "    elif cpumove ==\"scissors\":\n",
        "      print(\"Looser :-(\")\n",
        "    elif cpumove ==\"fire\":\n",
        "      print(\"You Got Burned !!\")\n",
        "\n",
        "  elif playermove==\"scissors\":\n",
        "      if  cpumove ==\"scissors\":\n",
        "       print(\"its a tie\")\n",
        "      elif cpumove== \"rock\":\n",
        "       print(\"Looser :-(\")\n",
        "      elif cpumove ==\"paper\":\n",
        "       print(\"You Win !!\")\n",
        "      elif cpumove ==\"fire\":\n",
        "       print(\"You Win !!\")\n",
        "\n",
        "  \n",
        "  elif playermove==\"fire\":\n",
        "      if  cpumove ==\"scissors\":\n",
        "       print(\"You Got Burned !!\")\n",
        "      elif cpumove== \"rock\":\n",
        "       print(\"Looser :-(\")\n",
        "      elif cpumove ==\"paper\":\n",
        "       print(\"You Win !!\")\n",
        "      elif cpumove ==\"fire\":\n",
        "       print(\"Its a tie\")\n",
        "  \n",
        "  else:\n",
        "      print(\"you did not enter a real move dingbat\")\n",
        "\n",
        "  #wantoplay=input(\"play again   \")\n"
      ]
    }
  ]
}