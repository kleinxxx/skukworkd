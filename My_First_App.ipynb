{
  "nbformat": 4,
  "nbformat_minor": 0,
  "metadata": {
    "colab": {
      "provenance": [],
      "authorship_tag": "ABX9TyP6f2r000HsJTHZ9HI7CkY8",
      "include_colab_link": true
    },
    "kernelspec": {
      "name": "python3",
      "display_name": "Python 3"
    },
    "language_info": {
      "name": "python"
    }
  },
  "cells": [
    {
      "cell_type": "markdown",
      "metadata": {
        "id": "view-in-github",
        "colab_type": "text"
      },
      "source": [
        "<a href=\"https://colab.research.google.com/github/kleinxxx/skukworkd/blob/main/My_First_App.ipynb\" target=\"_parent\"><img src=\"https://colab.research.google.com/assets/colab-badge.svg\" alt=\"Open In Colab\"/></a>"
      ]
    },
    {
      "cell_type": "code",
      "execution_count": null,
      "metadata": {
        "colab": {
          "base_uri": "https://localhost:8080/",
          "height": 728
        },
        "id": "9ws7_JvB404v",
        "outputId": "247ad0ad-cb7b-41ca-f636-410495c031de"
      },
      "outputs": [
        {
          "output_type": "stream",
          "name": "stdout",
          "text": [
            "****Welcome to Kelvin's First App - Rock, Paper or Scissors***\n",
            "Enter Your Move  fire\n",
            "Computer Move:  fire\n",
            "Its a tie\n",
            "Enter Your Move  fire\n",
            "Computer Move:  rock\n",
            "Looser :-(\n",
            "Enter Your Move  rock\n",
            "Computer Move:  fire\n",
            "You Got Burned !!\n",
            "Enter Your Move  paper\n",
            "Computer Move:  paper\n",
            "its a tie\n",
            "Enter Your Move  paper\n",
            "Computer Move:  fire\n",
            "You Got Burned !!\n",
            "Enter Your Move  rock\n",
            "Computer Move:  scissors\n",
            "You Win !!\n"
          ]
        },
        {
          "output_type": "error",
          "ename": "KeyboardInterrupt",
          "evalue": "ignored",
          "traceback": [
            "\u001b[0;31m---------------------------------------------------------------------------\u001b[0m",
            "\u001b[0;31mKeyboardInterrupt\u001b[0m                         Traceback (most recent call last)",
            "\u001b[0;32m<ipython-input-16-fb26a08dc1cb>\u001b[0m in \u001b[0;36m<cell line: 17>\u001b[0;34m()\u001b[0m\n\u001b[1;32m     16\u001b[0m \u001b[0mwantoplay\u001b[0m \u001b[0;34m=\u001b[0m \u001b[0;34m\"y\"\u001b[0m\u001b[0;34m\u001b[0m\u001b[0;34m\u001b[0m\u001b[0m\n\u001b[1;32m     17\u001b[0m \u001b[0;32mwhile\u001b[0m \u001b[0mwantoplay\u001b[0m\u001b[0;34m==\u001b[0m\u001b[0;34m\"y\"\u001b[0m\u001b[0;34m:\u001b[0m\u001b[0;34m\u001b[0m\u001b[0;34m\u001b[0m\u001b[0m\n\u001b[0;32m---> 18\u001b[0;31m   \u001b[0mplayermove\u001b[0m \u001b[0;34m=\u001b[0m \u001b[0minput\u001b[0m\u001b[0;34m(\u001b[0m\u001b[0;34m\"Enter Your Move  \"\u001b[0m\u001b[0;34m)\u001b[0m\u001b[0;34m\u001b[0m\u001b[0;34m\u001b[0m\u001b[0m\n\u001b[0m\u001b[1;32m     19\u001b[0m   \u001b[0;31m#print(\"Player Move :   \",playermove)\u001b[0m\u001b[0;34m\u001b[0m\u001b[0;34m\u001b[0m\u001b[0m\n\u001b[1;32m     20\u001b[0m   \u001b[0mmoveoptions\u001b[0m \u001b[0;34m=\u001b[0m \u001b[0;34m(\u001b[0m\u001b[0;34m\"rock\"\u001b[0m\u001b[0;34m,\u001b[0m \u001b[0;34m\"paper\"\u001b[0m\u001b[0;34m,\u001b[0m \u001b[0;34m\"scissors\"\u001b[0m\u001b[0;34m,\u001b[0m \u001b[0;34m\"fire\"\u001b[0m\u001b[0;34m)\u001b[0m\u001b[0;34m\u001b[0m\u001b[0;34m\u001b[0m\u001b[0m\n",
            "\u001b[0;32m/usr/local/lib/python3.9/dist-packages/ipykernel/kernelbase.py\u001b[0m in \u001b[0;36mraw_input\u001b[0;34m(self, prompt)\u001b[0m\n\u001b[1;32m    849\u001b[0m                 \u001b[0;34m\"raw_input was called, but this frontend does not support input requests.\"\u001b[0m\u001b[0;34m\u001b[0m\u001b[0;34m\u001b[0m\u001b[0m\n\u001b[1;32m    850\u001b[0m             )\n\u001b[0;32m--> 851\u001b[0;31m         return self._input_request(str(prompt),\n\u001b[0m\u001b[1;32m    852\u001b[0m             \u001b[0mself\u001b[0m\u001b[0;34m.\u001b[0m\u001b[0m_parent_ident\u001b[0m\u001b[0;34m,\u001b[0m\u001b[0;34m\u001b[0m\u001b[0;34m\u001b[0m\u001b[0m\n\u001b[1;32m    853\u001b[0m             \u001b[0mself\u001b[0m\u001b[0;34m.\u001b[0m\u001b[0m_parent_header\u001b[0m\u001b[0;34m,\u001b[0m\u001b[0;34m\u001b[0m\u001b[0;34m\u001b[0m\u001b[0m\n",
            "\u001b[0;32m/usr/local/lib/python3.9/dist-packages/ipykernel/kernelbase.py\u001b[0m in \u001b[0;36m_input_request\u001b[0;34m(self, prompt, ident, parent, password)\u001b[0m\n\u001b[1;32m    893\u001b[0m             \u001b[0;32mexcept\u001b[0m \u001b[0mKeyboardInterrupt\u001b[0m\u001b[0;34m:\u001b[0m\u001b[0;34m\u001b[0m\u001b[0;34m\u001b[0m\u001b[0m\n\u001b[1;32m    894\u001b[0m                 \u001b[0;31m# re-raise KeyboardInterrupt, to truncate traceback\u001b[0m\u001b[0;34m\u001b[0m\u001b[0;34m\u001b[0m\u001b[0m\n\u001b[0;32m--> 895\u001b[0;31m                 \u001b[0;32mraise\u001b[0m \u001b[0mKeyboardInterrupt\u001b[0m\u001b[0;34m(\u001b[0m\u001b[0;34m\"Interrupted by user\"\u001b[0m\u001b[0;34m)\u001b[0m \u001b[0;32mfrom\u001b[0m \u001b[0;32mNone\u001b[0m\u001b[0;34m\u001b[0m\u001b[0;34m\u001b[0m\u001b[0m\n\u001b[0m\u001b[1;32m    896\u001b[0m             \u001b[0;32mexcept\u001b[0m \u001b[0mException\u001b[0m \u001b[0;32mas\u001b[0m \u001b[0me\u001b[0m\u001b[0;34m:\u001b[0m\u001b[0;34m\u001b[0m\u001b[0;34m\u001b[0m\u001b[0m\n\u001b[1;32m    897\u001b[0m                 \u001b[0mself\u001b[0m\u001b[0;34m.\u001b[0m\u001b[0mlog\u001b[0m\u001b[0;34m.\u001b[0m\u001b[0mwarning\u001b[0m\u001b[0;34m(\u001b[0m\u001b[0;34m\"Invalid Message:\"\u001b[0m\u001b[0;34m,\u001b[0m \u001b[0mexc_info\u001b[0m\u001b[0;34m=\u001b[0m\u001b[0;32mTrue\u001b[0m\u001b[0;34m)\u001b[0m\u001b[0;34m\u001b[0m\u001b[0;34m\u001b[0m\u001b[0m\n",
            "\u001b[0;31mKeyboardInterrupt\u001b[0m: Interrupted by user"
          ]
        }
      ],
      "source": [
        "# this game was made on 20th April 2023\n",
        "# this will print the string below and the game rock paper scisor\n",
        "# input command will wait for user input\n",
        "# import randmon is done at the start of the program - random is a library to create random nimber \n",
        "# you can use the print(playeMove) to display the string\n",
        "#cpumoveoptions = is a tupple or array \n",
        "# moveoptions[0] is the first postion in the tupple - always use 0 as the starting point\n",
        "# [] is used to call sets , positions\n",
        "# {} arrays\n",
        "# () is for methods - print , input - it the command prompt\n",
        "\n",
        "\n",
        "import random\n",
        "print(\"****Welcome to Kelvin's First App - Rock, Paper or Scissors***\")\n",
        "\n",
        "wantoplay = \"y\"\n",
        "while wantoplay==\"y\":\n",
        "  playermove = input(\"Enter Your Move  \")\n",
        "  #print(\"Player Move :   \",playermove)\n",
        "  moveoptions = (\"rock\", \"paper\", \"scissors\", \"fire\")\n",
        "  cpumove = moveoptions[random.randint(0,3)]\n",
        "  print(\"Computer Move: \" , cpumove)\n",
        "\n",
        "  if playermove==\"rock\":\n",
        "    if  cpumove ==\"rock\":\n",
        "      print(\"its a tie\")\n",
        "    elif cpumove==\"paper\":\n",
        "      print(\"Looser :-(\")\n",
        "    elif cpumove ==\"scissors\":\n",
        "      print(\"You Win !!\")\n",
        "    elif cpumove ==\"fire\":\n",
        "      print(\"You Win!!\")\n",
        "\n",
        "  elif playermove==\"paper\":\n",
        "    if  cpumove ==\"paper\":\n",
        "      print(\"its a tie\")\n",
        "    elif cpumove==\"rock\":\n",
        "      print(\"You Win\")\n",
        "    elif cpumove ==\"scissors\":\n",
        "      print(\"Looser :-(\")\n",
        "    elif cpumove ==\"fire\":\n",
        "      print(\"You Got Burned !!\")\n",
        "\n",
        "  elif playermove==\"scissors\":\n",
        "      if  cpumove ==\"scissors\":\n",
        "       print(\"its a tie\")\n",
        "      elif cpumove== \"rock\":\n",
        "       print(\"Looser :-(\")\n",
        "      elif cpumove ==\"paper\":\n",
        "       print(\"You Win !!\")\n",
        "      elif cpumove ==\"fire\":\n",
        "       print(\"You Win !!\")\n",
        "\n",
        "  \n",
        "  elif playermove==\"fire\":\n",
        "      if  cpumove ==\"scissors\":\n",
        "       print(\"You Got Burned !!\")\n",
        "      elif cpumove== \"rock\":\n",
        "       print(\"Looser :-(\")\n",
        "      elif cpumove ==\"paper\":\n",
        "       print(\"You Win !!\")\n",
        "      elif cpumove ==\"fire\":\n",
        "       print(\"Its a tie\")\n",
        "  \n",
        "  else:\n",
        "      print(\"you did not enter a real move dingbat\")\n",
        "\n",
        "  #wantoplay=input(\"play again   \")\n"
      ]
    }
  ]
}