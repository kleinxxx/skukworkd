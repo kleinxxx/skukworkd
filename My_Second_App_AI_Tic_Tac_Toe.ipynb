{
  "nbformat": 4,
  "nbformat_minor": 0,
  "metadata": {
    "colab": {
      "provenance": [],
      "authorship_tag": "ABX9TyN0dQTZ092uAjtg5CMc+XZN",
      "include_colab_link": true
    },
    "kernelspec": {
      "name": "python3",
      "display_name": "Python 3"
    },
    "language_info": {
      "name": "python"
    }
  },
  "cells": [
    {
      "cell_type": "markdown",
      "metadata": {
        "id": "view-in-github",
        "colab_type": "text"
      },
      "source": [
        "<a href=\"https://colab.research.google.com/github/kleinxxx/skunkworks/blob/main/My_Second_App_AI_Tic_Tac_Toe.ipynb\" target=\"_parent\"><img src=\"https://colab.research.google.com/assets/colab-badge.svg\" alt=\"Open In Colab\"/></a>"
      ]
    },
    {
      "cell_type": "code",
      "execution_count": null,
      "metadata": {
        "id": "2i5rGqgvcd6z"
      },
      "outputs": [],
      "source": [
        "# This is a Python program that implements a simple game of Tic Tac Toe. Here is a step-by-step explanation of what the code does:\n",
        "\n",
        "#1. The program initializes an empty 3x3 board, represented as a nested list, with each element initialized to a single space character.\n",
        "#2. The program defines a function `print_board` that prints the current state of the board, with each cell represented by its contents.\n",
        "#3. The program defines a function `check_win` that takes a player symbol as an argument and checks whether that player has won the game by checking all possible win conditions: three in a row horizontally, three in a column vertically, or three in a diagonal.\n",
        "#4. The program enters a game loop that alternates between the player (\"X\") and the computer (\"O\"). On each iteration of the loop:\n",
        "    \n",
        " #   a. The program prints the current state of the board using the `print_board` function.\n",
        "    \n",
        " #   b. If it is the player's turn, the program prompts the user to enter the row and column they want to place their symbol in. If it is the computer's turn, the program generates random row and column values.\n",
        "    \n",
        " #  c. The program checks if the selected cell is empty. If it is, the program places the current player's symbol in it. If not, the program prints an error message and repeats the current player's turn.\n",
        "    \n",
        " #   d. The program checks whether the current player has won the game using the `check_win` function. If they have, the program prints the final state of the board, as well as a message indicating which player has won, and exits the game loop.\n",
        "    \n",
        " #   e. If nobody has won yet, the program switches to the other player's turn and repeats the game loop.\n",
        "    \n",
        "# 5. The program ends when a player wins the game.\n",
        "\n",
        "\n",
        "\n",
        "\n",
        "board = [[\" \", \" \", \" \"],\n",
        "         [\" \", \" \", \" \"],\n",
        "         [\" \", \" \", \" \"]]\n",
        "\n",
        "def print_board():\n",
        "    print(\"   0    1    2\")\n",
        "    for i in range(3):\n",
        "        row = str(i) + \" \"\n",
        "        for j in range(3):\n",
        "            row += \"| \" + board[i][j] + \" \"\n",
        "        print(row + \"|\")\n",
        "\n",
        "def check_win(player):\n",
        "    for i in range(3):\n",
        "        # Check horizontal\n",
        "        if board[i][0] == player and board[i][1] == player and board[i][2] == player:\n",
        "            return True\n",
        "        # Check vertical\n",
        "        if board[0][i] == player and board[1][i] == player and board[2][i] == player:\n",
        "            return True\n",
        "    # Check diagonal\n",
        "    if board[0][0] == player and board[1][1] == player and board[2][2] == player:\n",
        "        return True\n",
        "    if board[0][2] == player and board[1][1] == player and board[2][0] == player:\n",
        "        return True\n",
        "    return False\n",
        "\n",
        "# Game loop\n",
        "player = \"X\"\n",
        "while True:\n",
        "    print_board()\n",
        "    if player == \"X\":\n",
        "        row = int(input(\"Enter row: \"))\n",
        "        col = int(input(\"Enter column: \"))\n",
        "    else:\n",
        "        import random\n",
        "        row = random.randint(0, 2)\n",
        "        col = random.randint(0, 2)\n",
        "        print(\"Computer chose row\", row, \"and column\", col)\n",
        "    if board[row][col] == \" \":\n",
        "        board[row][col] = player\n",
        "        if check_win(player):\n",
        "            print_board()\n",
        "            if player == \"X\":\n",
        "                print(\"You win!\")\n",
        "            else:\n",
        "                print(\"The computer wins!\")\n",
        "            break\n",
        "        if player == \"X\":\n",
        "            player = \"O\"\n",
        "        else:\n",
        "            player = \"X\"\n",
        "    else:\n",
        "        print(\"That spot is already taken. Try again.\")\n"
      ]
    }
  ]
}