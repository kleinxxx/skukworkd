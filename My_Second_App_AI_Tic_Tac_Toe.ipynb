{
  "nbformat": 4,
  "nbformat_minor": 0,
  "metadata": {
    "colab": {
      "provenance": [],
      "authorship_tag": "ABX9TyO+iFHsVIH8pXyTe6flqYMC",
      "include_colab_link": true
    },
    "kernelspec": {
      "name": "python3",
      "display_name": "Python 3"
    },
    "language_info": {
      "name": "python"
    }
  },
  "cells": [
    {
      "cell_type": "markdown",
      "metadata": {
        "id": "view-in-github",
        "colab_type": "text"
      },
      "source": [
        "<a href=\"https://colab.research.google.com/github/kleinxxx/skunkworks/blob/main/My_Second_App_AI_Tic_Tac_Toe.ipynb\" target=\"_parent\"><img src=\"https://colab.research.google.com/assets/colab-badge.svg\" alt=\"Open In Colab\"/></a>"
      ]
    },
    {
      "cell_type": "code",
      "execution_count": null,
      "metadata": {
        "id": "2i5rGqgvcd6z"
      },
      "outputs": [],
      "source": [
        "board = [[\" \", \" \", \" \"],\n",
        "         [\" \", \" \", \" \"],\n",
        "         [\" \", \" \", \" \"]]\n",
        "\n",
        "def print_board():\n",
        "    print(\"   0    1    2\")\n",
        "    for i in range(3):\n",
        "        row = str(i) + \" \"\n",
        "        for j in range(3):\n",
        "            row += \"| \" + board[i][j] + \" \"\n",
        "        print(row + \"|\")\n",
        "\n",
        "def check_win(player):\n",
        "    for i in range(3):\n",
        "        # Check horizontal\n",
        "        if board[i][0] == player and board[i][1] == player and board[i][2] == player:\n",
        "            return True\n",
        "        # Check vertical\n",
        "        if board[0][i] == player and board[1][i] == player and board[2][i] == player:\n",
        "            return True\n",
        "    # Check diagonal\n",
        "    if board[0][0] == player and board[1][1] == player and board[2][2] == player:\n",
        "        return True\n",
        "    if board[0][2] == player and board[1][1] == player and board[2][0] == player:\n",
        "        return True\n",
        "    return False\n",
        "\n",
        "# Game loop\n",
        "player = \"X\"\n",
        "while True:\n",
        "    print_board()\n",
        "    if player == \"X\":\n",
        "        row = int(input(\"Enter row: \"))\n",
        "        col = int(input(\"Enter column: \"))\n",
        "    else:\n",
        "        import random\n",
        "        row = random.randint(0, 2)\n",
        "        col = random.randint(0, 2)\n",
        "        print(\"Computer chose row\", row, \"and column\", col)\n",
        "    if board[row][col] == \" \":\n",
        "        board[row][col] = player\n",
        "        if check_win(player):\n",
        "            print_board()\n",
        "            if player == \"X\":\n",
        "                print(\"You win!\")\n",
        "            else:\n",
        "                print(\"The computer wins!\")\n",
        "            break\n",
        "        if player == \"X\":\n",
        "            player = \"O\"\n",
        "        else:\n",
        "            player = \"X\"\n",
        "    else:\n",
        "        print(\"That spot is already taken. Try again.\")\n"
      ]
    }
  ]
}